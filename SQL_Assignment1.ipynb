{
 "cells": [
  {
   "cell_type": "markdown",
   "id": "72af99de",
   "metadata": {},
   "source": [
    "# Assgnment 1"
   ]
  },
  {
   "cell_type": "markdown",
   "id": "bfe84588",
   "metadata": {},
   "source": [
    "- Q-1. Write an SQL query to fetch “FIRST_NAME” from Worker table using the alias name as <WORKER_NAME>."
   ]
  },
  {
   "cell_type": "code",
   "execution_count": null,
   "id": "8d5c6be1",
   "metadata": {},
   "outputs": [],
   "source": [
    "SELECT FIRST_NAME FROM Worker;"
   ]
  },
  {
   "cell_type": "markdown",
   "id": "dadd4a98",
   "metadata": {},
   "source": [
    "- Q-2. Write an SQL query to fetch unique values of DEPARTMENT from Worker table."
   ]
  },
  {
   "cell_type": "code",
   "execution_count": null,
   "id": "37cf75c4",
   "metadata": {},
   "outputs": [],
   "source": [
    "SELECT DISTINCT(DEPARTMENT) FROM Worker ;"
   ]
  },
  {
   "cell_type": "markdown",
   "id": "60e33ae5",
   "metadata": {},
   "source": [
    "- Q-3. Write an SQL query to show the last 5 record from a table."
   ]
  },
  {
   "cell_type": "code",
   "execution_count": null,
   "id": "0a560504",
   "metadata": {},
   "outputs": [],
   "source": [
    "SELECT * FROM Worker ORDER BY EmployID DESC LIMIT 5;"
   ]
  }
 ],
 "metadata": {
  "kernelspec": {
   "display_name": "Python 3 (ipykernel)",
   "language": "python",
   "name": "python3"
  },
  "language_info": {
   "codemirror_mode": {
    "name": "ipython",
    "version": 3
   },
   "file_extension": ".py",
   "mimetype": "text/x-python",
   "name": "python",
   "nbconvert_exporter": "python",
   "pygments_lexer": "ipython3",
   "version": "3.9.7"
  }
 },
 "nbformat": 4,
 "nbformat_minor": 5
}
